{
  "nbformat": 4,
  "nbformat_minor": 0,
  "metadata": {
    "colab": {
      "name": "node2vec-template.ipynb",
      "provenance": [],
      "authorship_tag": "ABX9TyN1A1UdgZPcpd0okKcoSBeX",
      "include_colab_link": true
    },
    "kernelspec": {
      "name": "python3",
      "display_name": "Python 3"
    },
    "language_info": {
      "name": "python"
    },
    "accelerator": "GPU"
  },
  "cells": [
    {
      "cell_type": "markdown",
      "metadata": {
        "id": "view-in-github",
        "colab_type": "text"
      },
      "source": [
        "<a href=\"https://colab.research.google.com/github/jinhangjiang/JJ_Freq_Used_Code_Library/blob/main/python/graph/node2vec_template.ipynb\" target=\"_parent\"><img src=\"https://colab.research.google.com/assets/colab-badge.svg\" alt=\"Open In Colab\"/></a>"
      ]
    },
    {
      "cell_type": "markdown",
      "metadata": {
        "id": "0TNGTz8lDVwg"
      },
      "source": [
        "# Set up environment"
      ]
    },
    {
      "cell_type": "markdown",
      "metadata": {
        "id": "JnCUJ4yDElRH"
      },
      "source": [
        "#### MIT License"
      ]
    },
    {
      "cell_type": "markdown",
      "metadata": {
        "id": "bH0VWU2dEVGb"
      },
      "source": [
        "MIT License\n",
        "\n",
        "Copyright (c) [2021] [Jinhang Jiang]\n",
        "\n",
        "Permission is hereby granted, free of charge, to any person obtaining a copy\n",
        "of this software and associated documentation files (the \"Software\"), to deal\n",
        "in the Software without restriction, including without limitation the rights\n",
        "to use, copy, modify, merge, publish, distribute, sublicense, and/or sell\n",
        "copies of the Software, and to permit persons to whom the Software is\n",
        "furnished to do so, subject to the following conditions:\n",
        "\n",
        "The above copyright notice and this permission notice shall be included in all\n",
        "copies or substantial portions of the Software.\n",
        "\n",
        "THE SOFTWARE IS PROVIDED \"AS IS\", WITHOUT WARRANTY OF ANY KIND, EXPRESS OR\n",
        "IMPLIED, INCLUDING BUT NOT LIMITED TO THE WARRANTIES OF MERCHANTABILITY,\n",
        "FITNESS FOR A PARTICULAR PURPOSE AND NONINFRINGEMENT. IN NO EVENT SHALL THE\n",
        "AUTHORS OR COPYRIGHT HOLDERS BE LIABLE FOR ANY CLAIM, DAMAGES OR OTHER\n",
        "LIABILITY, WHETHER IN AN ACTION OF CONTRACT, TORT OR OTHERWISE, ARISING FROM,\n",
        "OUT OF OR IN CONNECTION WITH THE SOFTWARE OR THE USE OR OTHER DEALINGS IN THE\n",
        "SOFTWARE."
      ]
    },
    {
      "cell_type": "markdown",
      "metadata": {
        "id": "0IPb8gF3Et2z"
      },
      "source": [
        "#### Install node2vec (not installed as default)"
      ]
    },
    {
      "cell_type": "code",
      "metadata": {
        "id": "ROz6W8zuE1aK"
      },
      "source": [
        "!pip install node2vec"
      ],
      "execution_count": null,
      "outputs": []
    },
    {
      "cell_type": "markdown",
      "metadata": {
        "id": "-Ezo8c_JEyJf"
      },
      "source": [
        "#### Load packages"
      ]
    },
    {
      "cell_type": "code",
      "metadata": {
        "id": "-r4RsM0TCrs9"
      },
      "source": [
        "from node2vec import Node2Vec\n",
        "from node2vec.edges import HadamardEmbedder\n",
        "import networkx as nx\n",
        "import pandas as pd\n",
        "import numpy as np\n",
        "import warnings\n",
        "warnings.filterwarnings(\"ignore\")"
      ],
      "execution_count": null,
      "outputs": []
    },
    {
      "cell_type": "markdown",
      "metadata": {
        "id": "ehuVAO4qG1aK"
      },
      "source": [
        "# Define functions"
      ]
    },
    {
      "cell_type": "code",
      "metadata": {
        "id": "8WjNkJ8TGpH7"
      },
      "source": [
        "def convert_graph(edgelist,name):\n",
        "  # create a empty graph\n",
        "  graph=nx.Graph()\n",
        "  # get the edgelist, T(Source, Target, Weights), into the empty graph\n",
        "  graph.add_weighted_edges_from([tuple(x) for x in edgelist.values])\n",
        "  graph.name = name\n",
        "  print(nx.info(graph))\n",
        "  print(\"Graph density:\",nx.density(graph))\n",
        "  print(\"------------------------------------\")\n",
        "  print(\"************************************\")\n",
        "  print(\"------------------------------------\")\n",
        "  return graph"
      ],
      "execution_count": null,
      "outputs": []
    },
    {
      "cell_type": "code",
      "metadata": {
        "id": "yLnr2pJrJHMR"
      },
      "source": [
        "def fitnode2vce(graph, walklength=30, numwalks=10, windows=10):\n",
        "  # calculation for vector_size is inspired by the machine learning crush course from Google\n",
        "  # you may find the original content here: https://developers.google.com/machine-learning/crash-course/embeddings/video-lecture\n",
        "  # p32 talks about dimensions/vector_size \n",
        "  vector_size = round(len(graph.nodes)**0.25)\n",
        "  setup = Node2Vec(graph,dimensions=vector_size, walk_length=walklength, num_walks=numwalks, workers=4,weight_key=\"weight\")\n",
        "  model = setup.fit(window=windows, min_count=1)\n",
        "  return model"
      ],
      "execution_count": null,
      "outputs": []
    },
    {
      "cell_type": "code",
      "metadata": {
        "id": "tJb_0ui5KizZ"
      },
      "source": [
        "def getnodeemb(model):\n",
        "  vocab, vectors = model.wv.vocab, model.wv.vectors\n",
        "\n",
        "  # get node name and embedding vector index.\n",
        "  name_index = np.array([(v[0], v[1].index) for v in vocab.items()]) #.index\n",
        "\n",
        "  # init dataframe using embedding vectors and set index as node name\n",
        "  node2vec_output = pd.DataFrame(vectors[name_index[:,1].astype(int)])\n",
        "  node2vec_output.index = name_index[:,0]\n",
        "  return node2vec_output"
      ],
      "execution_count": null,
      "outputs": []
    },
    {
      "cell_type": "code",
      "metadata": {
        "id": "tGWnTQh3syG7"
      },
      "source": [
        "def getedgeemb(edge_emb):\n",
        "  edges_kv=edge_emb.as_keyed_vectors()\n",
        "  vocab, vectors = edges_kv.wv.vocab, edges_kv.wv.vectors\n",
        "\n",
        "  # get node name and embedding vector index.\n",
        "  name_index = np.array([(v[0], v[1].index) for v in vocab.items()]) #.index\n",
        "\n",
        "  # init dataframe using embedding vectors and set index as node name\n",
        "  edge_output = pd.DataFrame(vectors[name_index[:,1].astype(int)])\n",
        "  edge_output.index = name_index[:,0]\n",
        "  edge_output.reset_index(inplace=True)\n",
        "  edge_output[\"index\"] = edge_output[\"index\"].str.replace(r'[^\\w\\s]', '')\n",
        "  df = pd.DataFrame(edge_output[\"index\"].str.split(' ',1).tolist(), columns = ['Source','Target'])\n",
        "  edge_output[\"index\"] = df.Target\n",
        "  edge_output.rename(columns={'index':'Target'}, inplace=True)\n",
        "  edge_output.index = df.Source\n",
        "  edge_output.reset_index(inplace=True)\n",
        "  return edge_output"
      ],
      "execution_count": null,
      "outputs": []
    },
    {
      "cell_type": "markdown",
      "metadata": {
        "id": "Oka7P349FT7a"
      },
      "source": [
        "# Load Data"
      ]
    },
    {
      "cell_type": "code",
      "metadata": {
        "id": "eTh2DSFxE2kC"
      },
      "source": [
        "# read the data, I assumed, for future use, all the data will be 3-column weighted edgelist as: T(Source, Target, Weights)\n",
        "# the edge1.csv data can be accessed via this link: https://raw.githubusercontent.com/jinhangjiang/Disnet_ERGM/main/Data/0.2/edge1.csv\n",
        "edge = pd.read_csv(\"Edgelist_all.csv\", usecols=[\"Source\",\"Target\",\"Weight20192\"])"
      ],
      "execution_count": null,
      "outputs": []
    },
    {
      "cell_type": "markdown",
      "metadata": {
        "id": "ZMikz1TOHPKT"
      },
      "source": [
        "# Creating Graphs"
      ]
    },
    {
      "cell_type": "code",
      "metadata": {
        "id": "UoGji7MTHS2C"
      },
      "source": [
        "%%time\n",
        "g = convert_graph(edge, \"disease network of 20192\")"
      ],
      "execution_count": null,
      "outputs": []
    },
    {
      "cell_type": "markdown",
      "metadata": {
        "id": "_K7pRtbHIzte"
      },
      "source": [
        "# Fit node2vec"
      ]
    },
    {
      "cell_type": "code",
      "metadata": {
        "id": "a0VgxVPpHslC"
      },
      "source": [
        "# you may change the parameters here, defualts for walk_length, num_walk, and window are 30, 10, 10, respectively.\n",
        "# if you want to change the number of dimensions, you need to go back to the \"define function\" section and manually change it\n",
        "# increasing the numwalks will exponentially increase the fitting time \n",
        "\n",
        "model = fitnode2vce(g, walklength=10,numwalks=5,windows=10)"
      ],
      "execution_count": null,
      "outputs": []
    },
    {
      "cell_type": "markdown",
      "metadata": {
        "id": "reQ1Ft6SMj8W"
      },
      "source": [
        "# Get node embeddings to the dataframe"
      ]
    },
    {
      "cell_type": "code",
      "metadata": {
        "id": "wHZtwBTGLiqj"
      },
      "source": [
        "output = getnodeemb(model)"
      ],
      "execution_count": null,
      "outputs": []
    },
    {
      "cell_type": "code",
      "metadata": {
        "id": "vjP6_XXXMqfy"
      },
      "source": [
        "output"
      ],
      "execution_count": null,
      "outputs": []
    },
    {
      "cell_type": "code",
      "metadata": {
        "id": "J6SN6gVDQpfC"
      },
      "source": [
        "#output.to_csv(\"dis_embedding.csv\",index=True)"
      ],
      "execution_count": null,
      "outputs": []
    },
    {
      "cell_type": "markdown",
      "metadata": {
        "id": "u91XnHCqNBSj"
      },
      "source": [
        "# Node Similarity"
      ]
    },
    {
      "cell_type": "code",
      "metadata": {
        "id": "nR-MkzVNMrKh"
      },
      "source": [
        "model.wv.most_similar(\"j449\",topn=5)"
      ],
      "execution_count": null,
      "outputs": []
    },
    {
      "cell_type": "markdown",
      "metadata": {
        "id": "xob_1lNOhthC"
      },
      "source": [
        "# Get edge embeddings to dataframe"
      ]
    },
    {
      "cell_type": "code",
      "metadata": {
        "id": "2ADmXshth8OL"
      },
      "source": [
        "edges_embs = HadamardEmbedder(keyed_vectors=model.wv)"
      ],
      "execution_count": null,
      "outputs": []
    },
    {
      "cell_type": "code",
      "metadata": {
        "id": "az6Kc9SItNfQ"
      },
      "source": [
        "edge_output = getedgeemb(edges_embs)"
      ],
      "execution_count": null,
      "outputs": []
    },
    {
      "cell_type": "code",
      "metadata": {
        "id": "B06Bu1nYlbt4"
      },
      "source": [
        "edge_output"
      ],
      "execution_count": null,
      "outputs": []
    },
    {
      "cell_type": "code",
      "metadata": {
        "id": "iV94AQxhtd3g"
      },
      "source": [
        "#edge_output.to_csv(\"dis_edge_embedding.csv\")"
      ],
      "execution_count": null,
      "outputs": []
    },
    {
      "cell_type": "markdown",
      "metadata": {
        "id": "qVbgO4xntmN5"
      },
      "source": [
        "# Edge Similarity"
      ]
    },
    {
      "cell_type": "code",
      "metadata": {
        "id": "FbKPNTjstp1k"
      },
      "source": [
        "edges_kv = edges_embs.as_keyed_vectors()"
      ],
      "execution_count": null,
      "outputs": []
    },
    {
      "cell_type": "code",
      "metadata": {
        "id": "q4Qd5jIBjJu3"
      },
      "source": [
        "edges_kv.most_similar(str(('i255', 'z95810')))"
      ],
      "execution_count": null,
      "outputs": []
    }
  ]
}